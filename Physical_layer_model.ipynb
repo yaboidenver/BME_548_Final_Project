{
  "nbformat": 4,
  "nbformat_minor": 0,
  "metadata": {
    "colab": {
      "name": "Physical layer model.ipynb",
      "provenance": []
    },
    "kernelspec": {
      "name": "python3",
      "display_name": "Python 3"
    },
    "language_info": {
      "name": "python"
    }
  },
  "cells": [
    {
      "cell_type": "markdown",
      "source": [
        "# Set up"
      ],
      "metadata": {
        "id": "l-Evu9g7IYuo"
      }
    },
    {
      "cell_type": "markdown",
      "source": [
        "Setting up libraries"
      ],
      "metadata": {
        "id": "SraK7SjNJB_0"
      }
    },
    {
      "cell_type": "code",
      "source": [
        "from google.colab import drive\n",
        "drive.mount('/content/drive')"
      ],
      "metadata": {
        "colab": {
          "base_uri": "https://localhost:8080/"
        },
        "id": "CMIoOLAlbWJQ",
        "outputId": "48e8723d-46e4-4d46-b176-01ab5d100f1e"
      },
      "execution_count": null,
      "outputs": [
        {
          "output_type": "stream",
          "name": "stdout",
          "text": [
            "Drive already mounted at /content/drive; to attempt to forcibly remount, call drive.mount(\"/content/drive\", force_remount=True).\n"
          ]
        }
      ]
    },
    {
      "cell_type": "code",
      "source": [
        "%cd /content/drive/My Drive/Colab Notebooks/Data"
      ],
      "metadata": {
        "id": "252jtJPmbHLP",
        "colab": {
          "base_uri": "https://localhost:8080/"
        },
        "outputId": "591b7aa3-1c83-4180-aa1c-ec383843cc55"
      },
      "execution_count": null,
      "outputs": [
        {
          "output_type": "stream",
          "name": "stdout",
          "text": [
            "/content/drive/My Drive/Colab Notebooks/Data\n"
          ]
        }
      ]
    },
    {
      "cell_type": "code",
      "source": [
        "import os\n",
        "import numpy as np\n",
        "import tensorflow as tf\n",
        "from tensorflow import keras\n",
        "from tensorflow.keras import layers\n",
        "import matplotlib.pyplot as plt\n",
        "import pandas as pd\n",
        "import cv2\n",
        "import glob\n",
        "import pickle\n",
        "import seaborn as sns\n",
        "import tensorflow_probability as tfp\n",
        "\n",
        "from skimage.transform import radon, iradon\n",
        "from tensorflow.keras.models import Sequential\n",
        "from tensorflow.keras import optimizers\n",
        "from tensorflow.keras import Model\n",
        "from tensorflow.keras.applications.inception_v3 import InceptionV3\n",
        "from keras.models import load_model\n",
        "from sklearn.metrics import confusion_matrix\n",
        "from sklearn import metrics\n",
        "\n",
        "\n",
        "# Setting seed for reproducibility\n",
        "SEED = 42\n",
        "os.environ[\"TF_CUDNN_DETERMINISTIC\"] = \"1\"\n",
        "keras.utils.set_random_seed(SEED)"
      ],
      "metadata": {
        "id": "aI1Z4ER_IUYS"
      },
      "execution_count": null,
      "outputs": []
    },
    {
      "cell_type": "markdown",
      "source": [
        "# Opening variables with pickle"
      ],
      "metadata": {
        "id": "FILaEy0KMQg-"
      }
    },
    {
      "cell_type": "code",
      "source": [
        "with open('variables', 'rb') as f:\n",
        "   train,train_labs,valid,valid_labs,test,test_labs,test_labels = pickle.load(f)"
      ],
      "metadata": {
        "id": "AAYomLxMJe3C"
      },
      "execution_count": null,
      "outputs": []
    },
    {
      "cell_type": "markdown",
      "source": [
        "# Standard model"
      ],
      "metadata": {
        "id": "VSY5lRhs9HVV"
      }
    },
    {
      "cell_type": "code",
      "source": [
        "class physical(tf.keras.layers.Layer):\n",
        "    def __init__(self,name = None, **kwargs):\n",
        "      super(physical, self).__init__(name=name)\n",
        "      super(physical, self).__init__(**kwargs)\n",
        "      self.p_layer = tf.Variable(initial_value = tf.keras.initializers.Ones()(shape=(1,256)), trainable = True)\n",
        "\n",
        "    @tf.function\n",
        "    def get_temp(self):\n",
        "        soft_choice = self.p_layer\n",
        "        values, indices  = tf.math.top_k(soft_choice, k=(256-63))\n",
        "        hard_choice = tf.cast(tf.where(soft_choice > tf.reduce_min(values),x = 0.0, y = 0.5),tf.float32)\n",
        "        choice = soft_choice - tf.stop_gradient(hard_choice)\n",
        "        return choice\n",
        "    \n",
        "    @tf.function\n",
        "    def call(self, inputs):\n",
        "      choice = self.get_temp()\n",
        "      choice = tf.repeat(choice, 256, axis = 0)\n",
        "      choice = tf.repeat(choice[..., tf.newaxis], 3, -1)\n",
        "      new_choice = tf.math.multiply(inputs, choice)\n",
        "      return new_choice"
      ],
      "metadata": {
        "id": "NOURDOZdVBFe"
      },
      "execution_count": null,
      "outputs": []
    },
    {
      "cell_type": "code",
      "source": [
        "inception = InceptionV3(weights= 'imagenet',\n",
        "                        include_top=False,\n",
        "                        input_shape=(256,256,3)\n",
        ")\n",
        "\n",
        "for layer in inception.layers:\n",
        "    layer.trainable = False\n",
        "\n",
        "model = Sequential()\n",
        "model.add(physical())\n",
        "model.add(inception)\n",
        "model.add(layers.Flatten())\n",
        "model.add(layers.Dense(1024, activation = 'relu'))\n",
        "model.add(layers.Dropout(0.5))\n",
        "model.add(layers.Dense(4, activation = 'softmax'))"
      ],
      "metadata": {
        "id": "s5FnlDbc9O3n"
      },
      "execution_count": null,
      "outputs": []
    },
    {
      "cell_type": "code",
      "source": [
        "loss_fn_name = \"categorical_crossentropy\"\n",
        "Metrics = [\n",
        "      tf.keras.metrics.CategoricalAccuracy(name='accuracy'),\n",
        "      tf.keras.metrics.Precision(name='precision'),\n",
        "      tf.keras.metrics.Recall(name='recall'),  \n",
        "      tf.keras.metrics.AUC(name='auc')\n",
        "]\n",
        "\n",
        "model.compile(optimizer=optimizers.Adam(learning_rate=0.0005),loss=loss_fn_name, metrics=Metrics)"
      ],
      "metadata": {
        "id": "JRcNoCSb2Tun"
      },
      "execution_count": null,
      "outputs": []
    },
    {
      "cell_type": "code",
      "source": [
        "es = tf.keras.callbacks.EarlyStopping(monitor='val_accuracy', verbose=1, patience=5)\n",
        "\n",
        "mcp = tf.keras.callbacks.ModelCheckpoint('new_model.h5',monitor='val_accuracy', mode='max', save_best_only=True)\n",
        "\n",
        "history = model.fit(train, train_labs, epochs=35, batch_size=64, validation_data=(valid, valid_labs),callbacks=[es,mcp])"
      ],
      "metadata": {
        "id": "tJfgePWNAEhS",
        "colab": {
          "base_uri": "https://localhost:8080/"
        },
        "outputId": "2950dfea-56b1-4fa7-df65-3555080cd297"
      },
      "execution_count": null,
      "outputs": [
        {
          "output_type": "stream",
          "name": "stdout",
          "text": [
            "Epoch 1/35\n",
            "10/10 [==============================] - 274s 27s/step - loss: 84586.1875 - accuracy: 0.2662 - precision: 0.2662 - recall: 0.2662 - auc: 0.5108 - val_loss: 30883.7949 - val_accuracy: 0.2917 - val_precision: 0.2917 - val_recall: 0.2917 - val_auc: 0.5278\n",
            "Epoch 2/35\n",
            "10/10 [==============================] - 254s 25s/step - loss: 23913.6465 - accuracy: 0.3461 - precision: 0.3461 - recall: 0.3461 - auc: 0.5637 - val_loss: 24206.3281 - val_accuracy: 0.2639 - val_precision: 0.2639 - val_recall: 0.2639 - val_auc: 0.5093\n",
            "Epoch 3/35\n",
            "10/10 [==============================] - 253s 25s/step - loss: 14626.2344 - accuracy: 0.3727 - precision: 0.3727 - recall: 0.3727 - auc: 0.5818 - val_loss: 9788.0000 - val_accuracy: 0.3889 - val_precision: 0.3889 - val_recall: 0.3889 - val_auc: 0.5926\n",
            "Epoch 4/35\n",
            "10/10 [==============================] - 249s 24s/step - loss: 10433.3701 - accuracy: 0.3710 - precision: 0.3710 - recall: 0.3710 - auc: 0.5807 - val_loss: 2259.6450 - val_accuracy: 0.3472 - val_precision: 0.3472 - val_recall: 0.3472 - val_auc: 0.5648\n",
            "Epoch 5/35\n",
            "10/10 [==============================] - 261s 25s/step - loss: 2718.3152 - accuracy: 0.4459 - precision: 0.4459 - recall: 0.4459 - auc: 0.6314 - val_loss: 750.9882 - val_accuracy: 0.4167 - val_precision: 0.4167 - val_recall: 0.4167 - val_auc: 0.6111\n",
            "Epoch 6/35\n",
            "10/10 [==============================] - 247s 24s/step - loss: 741.9769 - accuracy: 0.4343 - precision: 0.4338 - recall: 0.4309 - auc: 0.6233 - val_loss: 95.5537 - val_accuracy: 0.3472 - val_precision: 0.3571 - val_recall: 0.3472 - val_auc: 0.5825\n",
            "Epoch 7/35\n",
            "10/10 [==============================] - 252s 25s/step - loss: 16.8543 - accuracy: 0.3877 - precision: 0.7047 - recall: 0.1747 - auc: 0.6321 - val_loss: 2.7440 - val_accuracy: 0.3194 - val_precision: 0.7273 - val_recall: 0.1111 - val_auc: 0.5900\n",
            "Epoch 8/35\n",
            "10/10 [==============================] - 244s 24s/step - loss: 1.3250 - accuracy: 0.3278 - precision: 0.9565 - recall: 0.0732 - auc: 0.5734 - val_loss: 2.1020 - val_accuracy: 0.3056 - val_precision: 0.8750 - val_recall: 0.0972 - val_auc: 0.5792\n",
            "Epoch 9/35\n",
            "10/10 [==============================] - 250s 25s/step - loss: 1.2845 - accuracy: 0.3278 - precision: 1.0000 - recall: 0.0732 - auc: 0.5847 - val_loss: 1.8309 - val_accuracy: 0.3056 - val_precision: 0.8750 - val_recall: 0.0972 - val_auc: 0.5792\n",
            "Epoch 10/35\n",
            "10/10 [==============================] - 244s 24s/step - loss: 1.2930 - accuracy: 0.3245 - precision: 1.0000 - recall: 0.0666 - auc: 0.5799 - val_loss: 1.7934 - val_accuracy: 0.3056 - val_precision: 0.8750 - val_recall: 0.0972 - val_auc: 0.5791\n",
            "Epoch 10: early stopping\n"
          ]
        }
      ]
    },
    {
      "cell_type": "markdown",
      "source": [
        "# Evaluating and looking at most useful angles"
      ],
      "metadata": {
        "id": "PghI9LTDOuF2"
      }
    },
    {
      "cell_type": "code",
      "source": [
        "best_model = load_model('new_model.h5',custom_objects={\"physical\": physical})\n",
        "best_model.evaluate(x = test, y = test_labs, verbose=1)"
      ],
      "metadata": {
        "id": "4tV68zRDwdYm",
        "colab": {
          "base_uri": "https://localhost:8080/"
        },
        "outputId": "d0d78041-ecbd-4d7b-8046-0156dad66aba"
      },
      "execution_count": null,
      "outputs": [
        {
          "output_type": "stream",
          "name": "stdout",
          "text": [
            "10/10 [==============================] - 42s 4s/step - loss: 771.9126 - accuracy: 0.4190 - precision: 0.4190 - recall: 0.4190 - auc: 0.6141\n"
          ]
        },
        {
          "output_type": "execute_result",
          "data": {
            "text/plain": [
              "[771.91259765625,\n",
              " 0.41904762387275696,\n",
              " 0.41904762387275696,\n",
              " 0.41904762387275696,\n",
              " 0.6141127943992615]"
            ]
          },
          "metadata": {},
          "execution_count": 9
        }
      ]
    },
    {
      "cell_type": "code",
      "source": [
        "plt.plot(history.history['accuracy'])\n",
        "plt.plot(history.history['val_accuracy'])\n",
        "plt.title('model accuracy')\n",
        "plt.ylabel('accuracy')\n",
        "plt.xlabel('epoch')\n",
        "plt.legend(['train', 'val'], loc='upper left')\n",
        "plt.show()"
      ],
      "metadata": {
        "id": "Y0ELzB48PiVc",
        "colab": {
          "base_uri": "https://localhost:8080/",
          "height": 295
        },
        "outputId": "7d1976aa-90f7-44fa-dd50-14364f5fc66f"
      },
      "execution_count": null,
      "outputs": [
        {
          "output_type": "display_data",
          "data": {
            "text/plain": [
              "<Figure size 432x288 with 1 Axes>"
            ],
            "image/png": "[encoded data removed]"
          },
          "metadata": {
            "needs_background": "light"
          }
        }
      ]
    },
    {
      "cell_type": "code",
      "source": [
        "plt.plot(history.history['loss'])\n",
        "plt.plot(history.history['val_loss'])\n",
        "plt.title('model loss')\n",
        "plt.ylabel('loss')\n",
        "plt.xlabel('epoch')\n",
        "plt.legend(['train', 'val'], loc='upper left')\n",
        "plt.show()"
      ],
      "metadata": {
        "id": "MyeUCN2tPqLO",
        "colab": {
          "base_uri": "https://localhost:8080/",
          "height": 295
        },
        "outputId": "6c06fbcd-bf51-4e71-c6e7-9ae3daff5a4d"
      },
      "execution_count": null,
      "outputs": [
        {
          "output_type": "display_data",
          "data": {
            "text/plain": [
              "<Figure size 432x288 with 1 Axes>"
            ],
            "image/png": "[encoded data removed]"
          },
          "metadata": {
            "needs_background": "light"
          }
        }
      ]
    },
    {
      "cell_type": "code",
      "source": [
        "preds = best_model.predict(test)"
      ],
      "metadata": {
        "id": "tPnQub2CPqUa"
      },
      "execution_count": null,
      "outputs": []
    },
    {
      "cell_type": "code",
      "source": [
        "cf_matrix = confusion_matrix(test_labels, preds.argmax(axis=1))"
      ],
      "metadata": {
        "id": "xMGbQUZ8Pvcg"
      },
      "execution_count": null,
      "outputs": []
    },
    {
      "cell_type": "code",
      "source": [
        "sns.set(rc={'figure.figsize':(10,10)})\n",
        "\n",
        "ax = sns.heatmap(cf_matrix, annot=True, cmap='Blues',cbar=False,fmt='g')\n",
        "\n",
        "ax.set_title('Confusion Matrix for Physical Layer Model\\n\\n');\n",
        "ax.set_xlabel('\\nPredicted Values')\n",
        "ax.set_ylabel('Actual Values ');\n",
        "\n",
        "ax.xaxis.set_ticklabels(['Adenocarcinoma','Large cell carcinoma','Normal','Squamous cell carcinoma'])\n",
        "ax.yaxis.set_ticklabels(['Adenocarcinoma','Large cell carcinoma','Normal','Squamous cell carcinoma'])\n",
        "\n",
        "plt.show()"
      ],
      "metadata": {
        "id": "WPAzeFFFPvYh",
        "colab": {
          "base_uri": "https://localhost:8080/",
          "height": 672
        },
        "outputId": "5c173d15-88c0-45b4-8ad5-8b698a4250ff"
      },
      "execution_count": null,
      "outputs": [
        {
          "output_type": "display_data",
          "data": {
            "text/plain": [
              "<Figure size 720x720 with 1 Axes>"
            ],
            "image/png": "[encoded data removed]"
          },
          "metadata": {}
        }
      ]
    },
    {
      "cell_type": "code",
      "source": [
        "np.round(best_model.layers[0].get_temp().numpy()[0])"
      ],
      "metadata": {
        "colab": {
          "base_uri": "https://localhost:8080/"
        },
        "id": "O6ba3bKvJXmL",
        "outputId": "e1c47a1b-b8e7-4183-c976-6ee983ca50bc"
      },
      "execution_count": null,
      "outputs": [
        {
          "output_type": "execute_result",
          "data": {
            "text/plain": [
              "array([1., 1., 0., 0., 1., 1., 0., 1., 1., 0., 0., 0., 0., 1., 1., 1., 1.,\n",
              "       1., 1., 1., 1., 1., 1., 1., 1., 0., 1., 1., 1., 0., 1., 1., 1., 1.,\n",
              "       1., 1., 0., 0., 1., 1., 1., 0., 1., 1., 0., 1., 1., 1., 1., 0., 0.,\n",
              "       1., 1., 1., 1., 1., 1., 1., 1., 1., 1., 1., 1., 1., 1., 1., 1., 0.,\n",
              "       0., 1., 1., 0., 1., 1., 1., 0., 1., 1., 1., 1., 1., 1., 1., 0., 1.,\n",
              "       1., 0., 1., 1., 1., 1., 1., 0., 0., 1., 0., 1., 1., 0., 1., 1., 1.,\n",
              "       1., 1., 1., 0., 1., 0., 1., 1., 0., 1., 1., 1., 1., 1., 1., 0., 1.,\n",
              "       1., 0., 0., 1., 0., 1., 0., 1., 1., 1., 1., 0., 1., 0., 1., 1., 1.,\n",
              "       1., 1., 1., 0., 1., 1., 1., 1., 1., 1., 1., 1., 1., 1., 1., 1., 1.,\n",
              "       1., 1., 0., 0., 1., 1., 0., 1., 1., 1., 1., 1., 0., 1., 1., 0., 0.,\n",
              "       1., 1., 1., 1., 1., 1., 1., 1., 1., 1., 1., 1., 1., 1., 1., 1., 1.,\n",
              "       1., 0., 0., 0., 1., 1., 0., 1., 1., 1., 1., 1., 0., 1., 1., 0., 1.,\n",
              "       1., 1., 1., 1., 1., 0., 1., 1., 0., 1., 1., 1., 0., 1., 1., 1., 0.,\n",
              "       1., 1., 1., 1., 0., 0., 1., 1., 1., 1., 0., 1., 0., 1., 1., 0., 0.,\n",
              "       1., 0., 1., 0., 0., 1., 1., 0., 0., 0., 1., 1., 1., 1., 1., 1., 1.,\n",
              "       1.], dtype=float32)"
            ]
          },
          "metadata": {},
          "execution_count": 34
        }
      ]
    },
    {
      "cell_type": "code",
      "source": [
        "def four_to_two(pred):\n",
        "  pred_2 = [] \n",
        "  for i in range(len(pred)):\n",
        "    if pred[i] == 0 or pred[i] == 1 or pred[i] == 3: \n",
        "      pred_2.append(1)\n",
        "    else:\n",
        "      pred_2.append(0)\n",
        "  return pred_2"
      ],
      "metadata": {
        "id": "X_Z4l85hRStk"
      },
      "execution_count": null,
      "outputs": []
    },
    {
      "cell_type": "code",
      "source": [
        "preds_in_one = preds.argmax(axis=1)\n",
        "\n",
        "new_pred = four_to_two(preds_in_one)\n",
        "new_test_labels = four_to_two(test_labels)\n",
        "\n",
        "cf_matrix_2 = confusion_matrix(new_test_labels, new_pred)\n",
        "\n",
        "sns.set(rc={'figure.figsize':(10,10)})\n",
        "\n",
        "ax = sns.heatmap(cf_matrix_2, annot=True, cmap='Blues',cbar=False,fmt = 'g')\n",
        "\n",
        "ax.set_title('Cancer Detection Matrix for Physical Layer Model\\n\\n');\n",
        "ax.set_xlabel('\\nPredicted Values')\n",
        "ax.set_ylabel('Actual Values ');\n",
        "\n",
        "ax.xaxis.set_ticklabels(['Not cancer','Cancer'])\n",
        "ax.yaxis.set_ticklabels(['Not cancer','Cancer'])\n",
        "\n",
        "plt.show()"
      ],
      "metadata": {
        "id": "zDmX8EC7RTa3",
        "colab": {
          "base_uri": "https://localhost:8080/",
          "height": 672
        },
        "outputId": "70d8510c-c62c-48db-a2bd-4f23b0c9efbe"
      },
      "execution_count": null,
      "outputs": [
        {
          "output_type": "display_data",
          "data": {
            "text/plain": [
              "<Figure size 720x720 with 1 Axes>"
            ],
            "image/png": "[encoded data removed]"
          },
          "metadata": {}
        }
      ]
    },
    {
      "cell_type": "markdown",
      "source": [
        "# Saving best angle"
      ],
      "metadata": {
        "id": "1Z0svZKDPHx3"
      }
    },
    {
      "cell_type": "code",
      "source": [
        "best_angle = best_model.layers[0].get_temp().numpy()[0]\n",
        "with open('angles', 'wb') as f:\n",
        "  pickle.dump([best_angle],f)"
      ],
      "metadata": {
        "id": "RcZfT09CO1tF"
      },
      "execution_count": null,
      "outputs": []
    },
    {
      "cell_type": "markdown",
      "source": [
        "# Metrics"
      ],
      "metadata": {
        "id": "4Vn2nGxSoGUr"
      }
    },
    {
      "cell_type": "code",
      "source": [
        "def scores(y_true, y_pred, labels):\n",
        "  acc = metrics.accuracy_score(y_true, y_pred.argmax(axis=1))\n",
        "  acc_k = metrics.top_k_accuracy_score(y_true, y_pred, k=2)\n",
        "  acc_3 = metrics.top_k_accuracy_score(y_true, y_pred, k=3)\n",
        "  prec = metrics.precision_score(y_true, y_pred.argmax(axis=1), average = 'weighted')\n",
        "  rec = metrics.recall_score(y_true, y_pred.argmax(axis=1), average = 'weighted')\n",
        "  roc_auc = metrics.roc_auc_score(labels, y_pred)\n",
        "\n",
        "  print('Accuracy is :',round(acc,3))\n",
        "  print('Top 2 Accuracy is :',round(acc_k,3))\n",
        "  print('Top 3 Accuracy is :',round(acc_3,3))\n",
        "  print('Precision is :',round(prec,3))\n",
        "  print('Recall is :',round(rec,3))\n",
        "  print('AUC is :',round(roc_auc,3))"
      ],
      "metadata": {
        "id": "i6rTfmnwoY-s"
      },
      "execution_count": null,
      "outputs": []
    },
    {
      "cell_type": "code",
      "source": [
        "scores(test_labels,preds,test_labs)"
      ],
      "metadata": {
        "id": "1kPzKZjjqZcj",
        "colab": {
          "base_uri": "https://localhost:8080/"
        },
        "outputId": "a0c11f24-c591-461f-d7bf-ff9275a87def"
      },
      "execution_count": null,
      "outputs": [
        {
          "output_type": "stream",
          "name": "stdout",
          "text": [
            "Accuracy is : 0.419\n",
            "Top 2 Accuracy is : 0.578\n",
            "Top 3 Accuracy is : 0.622\n",
            "Precision is : 0.693\n",
            "Recall is : 0.419\n",
            "AUC is : 0.685\n"
          ]
        }
      ]
    }
  ]
}